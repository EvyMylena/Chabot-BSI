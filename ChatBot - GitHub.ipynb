{
 "cells": [
  {
   "cell_type": "code",
   "execution_count": 1,
   "id": "0a6d384e-1953-4f2d-9db6-3083bd976a22",
   "metadata": {},
   "outputs": [
    {
     "name": "stderr",
     "output_type": "stream",
     "text": [
      "/usr/lib/python3/dist-packages/scipy/__init__.py:146: UserWarning: A NumPy version >=1.17.3 and <1.25.0 is required for this version of SciPy (detected version 1.25.0\n",
      "  warnings.warn(f\"A NumPy version >={np_minversion} and <{np_maxversion}\"\n"
     ]
    }
   ],
   "source": [
    "import os\n",
    "import fitz\n",
    "\n",
    "from PyPDF2 import PdfReader\n",
    "from langchain.chains import ConversationalRetrievalChain, LLMChain\n",
    "from langchain.document_loaders import PyPDFLoader, TextLoader\n",
    "from langchain.prompts import ChatPromptTemplate\n",
    "from langchain.text_splitter import RecursiveCharacterTextSplitter\n",
    "from langchain.memory import ConversationBufferWindowMemory\n",
    "from langchain.vectorstores import FAISS\n",
    "from langchain_huggingface import HuggingFaceEmbeddings\n",
    "from langchain_openai import ChatOpenAI\n",
    "from sentence_transformers import SentenceTransformer"
   ]
  },
  {
   "cell_type": "code",
   "execution_count": 2,
   "id": "dfec0bf7-1c39-459d-bae5-57f5bfd6966c",
   "metadata": {},
   "outputs": [],
   "source": [
    "def get_pdf_text(pdf_docs):\n",
    "    text = \"\"\n",
    "    for pdf in pdf_docs:\n",
    "        doc = fitz.open(pdf)\n",
    "        for page in doc:\n",
    "            text += page.get_text(\"text\") + \"\\n\"\n",
    "    return text"
   ]
  },
  {
   "cell_type": "code",
   "execution_count": 3,
   "id": "a540e0a3-3048-46ff-ae93-5d6100bd6b15",
   "metadata": {},
   "outputs": [],
   "source": [
    "def get_text_chunks(text):\n",
    "    text_splitter = RecursiveCharacterTextSplitter(\n",
    "        chunk_size=1000,\n",
    "        chunk_overlap=100,\n",
    "        separators=[\"\\n\\n\", \"\\n\", \".\", \" \"],\n",
    "        length_function=len\n",
    "    )\n",
    "    return text_splitter.split_text(text)"
   ]
  },
  {
   "cell_type": "code",
   "execution_count": 4,
   "id": "79b9fd38-f83c-41f7-b895-896137a22757",
   "metadata": {},
   "outputs": [],
   "source": [
    "def get_vectorstore(text_chunks):\n",
    "    embeddings = HuggingFaceEmbeddings()\n",
    "    return FAISS.from_texts(texts=text_chunks, embedding=embeddings)"
   ]
  },
  {
   "cell_type": "code",
   "execution_count": 5,
   "id": "cb253bf8-ce33-4f3f-9b95-d80fa98bc5db",
   "metadata": {},
   "outputs": [],
   "source": [
    "def get_llm():\n",
    "    llm = ChatOpenAI(\n",
    "        model='deepseek-chat',\n",
    "        openai_api_key=\"YOUR-API-KEY\",\n",
    "        openai_api_base='https://api.deepseek.com',\n",
    "        temperature=0\n",
    "    )\n",
    "    return llm"
   ]
  },
  {
   "cell_type": "code",
   "execution_count": 6,
   "id": "5782bfdf-7be9-441a-93ff-85a5a573c112",
   "metadata": {},
   "outputs": [],
   "source": [
    "def get_chat_memory():\n",
    "    return ConversationBufferWindowMemory(k=5, memory_key=\"chat_history\", return_messages=True)"
   ]
  },
  {
   "cell_type": "code",
   "execution_count": 7,
   "id": "7990fcad-7d34-453f-8bfb-f0ff4203917d",
   "metadata": {},
   "outputs": [],
   "source": [
    "def get_prompt_template():\n",
    "    prompt_text = \"\"\"\n",
    "    You are a university assistant. Coordinators or students will ask questions about rules, \n",
    "    workload, courses, course registration, and other topics related to the Federal Rural University of Pernambuco \n",
    "    and its programs. Respond exclusively based on the provided documents, ignoring any irrelevant context.\n",
    "\n",
    "    Contexto: {context}\n",
    "    Pergunta: {question}\n",
    "    Resposta:\n",
    "    \"\"\"\n",
    "\n",
    "    return ChatPromptTemplate.from_template(prompt_text)"
   ]
  },
  {
   "cell_type": "code",
   "execution_count": 8,
   "id": "90abbc65-0326-4fbd-a7bb-251d4b6c9ebe",
   "metadata": {},
   "outputs": [],
   "source": [
    "def create_question_generator():\n",
    "    llm = get_llm()\n",
    "    prompt_template = get_prompt_template()\n",
    "    return LLMChain(llm=llm, prompt=prompt_template)"
   ]
  },
  {
   "cell_type": "code",
   "execution_count": 9,
   "id": "96a66207-c277-43ff-989f-6ad7c54a54f5",
   "metadata": {},
   "outputs": [],
   "source": [
    "def get_conversation_chain(vectorstore):\n",
    "    question_generator_chain = create_question_generator()\n",
    "    memory = get_chat_memory()\n",
    "    \n",
    "    conversation_chain = ConversationalRetrievalChain.from_llm(\n",
    "        llm=question_generator_chain.llm,\n",
    "        retriever=vectorstore.as_retriever(),\n",
    "        memory=memory,\n",
    "        combine_docs_chain_kwargs={\"prompt\": question_generator_chain.prompt}\n",
    "    )\n",
    "    return conversation_chain"
   ]
  },
  {
   "cell_type": "code",
   "execution_count": 10,
   "id": "b80c5e0e-490b-43fc-b872-4ed357087e55",
   "metadata": {},
   "outputs": [],
   "source": [
    "def load_pdfs_from_folder(folder_path):\n",
    "    pdf_files = [os.path.join(folder_path, f) for f in os.listdir(folder_path) if f.endswith('.pdf')]\n",
    "\n",
    "    print(\"\\n📂 PDFs carregados:\")\n",
    "    for pdf in pdf_files:\n",
    "        print(f\" - {pdf}\")\n",
    "    \n",
    "    return pdf_files"
   ]
  },
  {
   "cell_type": "code",
   "execution_count": 11,
   "id": "85545aa1-3ddc-41bb-86c3-ab769083478f",
   "metadata": {},
   "outputs": [
    {
     "name": "stdout",
     "output_type": "stream",
     "text": [
      "\n",
      "📂 PDFs carregados:\n",
      " - /home/embs/Downloads/pasta_pdfs_tcc/resolucao 494_2010.pdf\n",
      " - /home/embs/Downloads/pasta_pdfs_tcc/L5540compilada.pdf\n",
      " - /home/embs/Downloads/pasta_pdfs_tcc/Resolução CEPE 431-07 - Regulamento do Diário de Classe - Para Professores.pdf\n",
      " - /home/embs/Downloads/pasta_pdfs_tcc/Microsoft Word - recepe313.2003 - MudançaPPP.pdf\n",
      " - /home/embs/Downloads/pasta_pdfs_tcc/parecer_pces067_03.pdf\n",
      " - /home/embs/Downloads/pasta_pdfs_tcc/Resolução 154.2001 CEPE Desligamento de alunos.pdf\n",
      " - /home/embs/Downloads/pasta_pdfs_tcc/pces281_06.pdf\n",
      " - /home/embs/Downloads/pasta_pdfs_tcc/lei_L9394compilado.pdf\n",
      " - /home/embs/Downloads/pasta_pdfs_tcc/parecer_rces002_07.pdf\n",
      " - /home/embs/Downloads/pasta_pdfs_tcc/RGG_Completo_270123.pdf\n",
      " - /home/embs/Downloads/pasta_pdfs_tcc/miolo-cartilha-estagio-15x21.indd.pdf\n"
     ]
    },
    {
     "name": "stderr",
     "output_type": "stream",
     "text": [
      "/tmp/ipykernel_1379012/3000592928.py:4: LangChainDeprecationWarning: The class `LLMChain` was deprecated in LangChain 0.1.17 and will be removed in 1.0. Use :meth:`~RunnableSequence, e.g., `prompt | llm`` instead.\n",
      "  return LLMChain(llm=llm, prompt=prompt_template)\n",
      "/tmp/ipykernel_1379012/1538358613.py:2: LangChainDeprecationWarning: Please see the migration guide at: https://python.langchain.com/docs/versions/migrating_memory/\n",
      "  return ConversationBufferWindowMemory(k=5, memory_key=\"chat_history\", return_messages=True)\n"
     ]
    }
   ],
   "source": [
    "class ChatBotFAQ:\n",
    "    def __init__(self, pdf_folder_path):\n",
    "        pdf_files = load_pdfs_from_folder(pdf_folder_path)\n",
    "        raw_text = get_pdf_text(pdf_files)\n",
    "        text_chunks = get_text_chunks(raw_text)\n",
    "        self.vectorstore = get_vectorstore(text_chunks)\n",
    "        \n",
    "        self.conversation_chain = get_conversation_chain(self.vectorstore)\n",
    "        self.memory = get_chat_memory()\n",
    "        \n",
    "    def ask_question(self, question):\n",
    "        response = self.conversation_chain({\"question\": question, \"chat_history\": self.memory.buffer})\n",
    "        \n",
    "        return response[\"answer\"]\n",
    "        \n",
    "pdf_folder_path = \"/home/embs/Downloads/pasta_pdfs_tcc\"\n",
    "chatbot = ChatBotFAQ(pdf_folder_path)"
   ]
  },
  {
   "cell_type": "code",
   "execution_count": 39,
   "id": "442c6d46-6649-4211-8ad4-29de534a3994",
   "metadata": {},
   "outputs": [
    {
     "name": "stdin",
     "output_type": "stream",
     "text": [
      "Ask me anything about UFRPE and our rules:  Quantas faltas o aluno pode ter nas disciplinas para não reprovar por falta?\n"
     ]
    },
    {
     "name": "stdout",
     "output_type": "stream",
     "text": [
      "Resposta: De acordo com o **Art. 145**, para ser aprovado(a) em uma disciplina ou módulo, o(a) discente deve cumprir, no mínimo, **75% (setenta e cinco por cento)** da carga horária total do componente curricular. Portanto, o aluno pode faltar em até **25%** da carga horária da disciplina sem reprovar por falta. \n",
      "\n",
      "Por exemplo, se uma disciplina tem 60 horas-aula, o aluno pode faltar em até **15 horas-aula** (25% de 60) para não ser reprovado por falta.\n"
     ]
    }
   ],
   "source": [
    "question = input(\"Ask me anything about UFRPE and our rules: \")\n",
    "answer = chatbot.ask_question(question)\n",
    "\n",
    "print(\"Resposta:\", answer)"
   ]
  }
 ],
 "metadata": {
  "kernelspec": {
   "display_name": "Python 3 (ipykernel)",
   "language": "python",
   "name": "python3"
  },
  "language_info": {
   "codemirror_mode": {
    "name": "ipython",
    "version": 3
   },
   "file_extension": ".py",
   "mimetype": "text/x-python",
   "name": "python",
   "nbconvert_exporter": "python",
   "pygments_lexer": "ipython3",
   "version": "3.10.12"
  }
 },
 "nbformat": 4,
 "nbformat_minor": 5
}
